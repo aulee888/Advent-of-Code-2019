{
 "cells": [
  {
   "cell_type": "code",
   "execution_count": 1,
   "metadata": {},
   "outputs": [],
   "source": [
    "map = '.#..#\\\n",
    ".....\\\n",
    "#####\\\n",
    "....#\\\n",
    "...##'\n",
    "\n",
    "map_list = [[map[i * 5 + j] for j in range(5)] for i in range(5)]\n",
    "for item in map_list:\n",
    "    print(item)"
   ]
  },
  {
   "cell_type": "code",
   "execution_count": 2,
   "metadata": {},
   "outputs": [],
   "source": [
    "class Asteroid:\n",
    "    def __init__(self, x, y, map_list: list):\n",
    "        self.coor = (x, y)\n",
    "        self.scan = 0\n",
    "        self.locations = {}\n",
    "        self.locations[self.coor] = 'o'\n",
    "\n",
    "    def search(self):\n",
    "        for j in range(len(map_list)):\n",
    "\n",
    "            for i in range(len(map_list)):\n",
    "                if map_list[j][i] == '#' and (i, j) != self.coor:\n",
    "                    print((i, j))\n",
    "                    x_dir = i - self.coor[0]\n",
    "                    y_dir = j - self.coor[1]\n",
    "\n",
    "                    if lcd(x_dir, y_dir) not in self.locations:\n",
    "                        self.locations[lcd(x_dir, y_dir)] = '*'\n",
    "                        self.scan += 1"
   ]
  },
  {
   "cell_type": "code",
   "execution_count": 3,
   "metadata": {},
   "outputs": [],
   "source": [
    "def gcf(a, b):\n",
    "    if b == 0:\n",
    "        return a\n",
    "        \n",
    "    return gcf(b, a % b)"
   ]
  },
  {
   "cell_type": "code",
   "execution_count": 4,
   "metadata": {},
   "outputs": [],
   "source": [
    "def lcd(a, b):\n",
    "    div = abs(gcf(a, b))\n",
    "\n",
    "    return int(a/div), int(b/div)  # Incorrect negative sorting affected by this line"
   ]
  },
  {
   "cell_type": "code",
   "execution_count": 5,
   "metadata": {},
   "outputs": [
    {
     "ename": "IndentationError",
     "evalue": "expected an indented block (<ipython-input-5-94da255ca8aa>, line 13)",
     "output_type": "error",
     "traceback": [
      "\u001b[1;36m  File \u001b[1;32m\"<ipython-input-5-94da255ca8aa>\"\u001b[1;36m, line \u001b[1;32m13\u001b[0m\n\u001b[1;33m    print('')\u001b[0m\n\u001b[1;37m        ^\u001b[0m\n\u001b[1;31mIndentationError\u001b[0m\u001b[1;31m:\u001b[0m expected an indented block\n"
     ]
    }
   ],
   "source": [
    "def test(map_list):\n",
    "    asteroids = []\n",
    "    for y in range(len(map_list)):\n",
    "\n",
    "        for x in range(len(map_list)):\n",
    "\n",
    "            if map_list[y][x] == '#':\n",
    "                asteroids.append(Asteroid(x, y, map_list))\n",
    "                asteroids[-1].search()\n",
    "                #print(asteroids[-1].scan)\n",
    "                for location in asteroids[-1].locations.keys():\n",
    "                    #print(location)\n",
    "                print('')\n",
    "\n",
    "test(map_list)"
   ]
  },
  {
   "cell_type": "code",
   "execution_count": null,
   "metadata": {},
   "outputs": [],
   "source": [
    "# Stuck with this problem, not correctly sorting between negatives\n",
    "print(lcd(-1, 0))\n",
    "print(lcd(1, 0))\n",
    "print(lcd(0, -1))\n",
    "print(lcd(0, 1))"
   ]
  },
  {
   "cell_type": "code",
   "execution_count": null,
   "metadata": {},
   "outputs": [],
   "source": []
  }
 ],
 "metadata": {
  "kernelspec": {
   "display_name": "Python 3",
   "language": "python",
   "name": "python3"
  },
  "language_info": {
   "codemirror_mode": {
    "name": "ipython",
    "version": 3
   },
   "file_extension": ".py",
   "mimetype": "text/x-python",
   "name": "python",
   "nbconvert_exporter": "python",
   "pygments_lexer": "ipython3",
   "version": "3.7.3"
  }
 },
 "nbformat": 4,
 "nbformat_minor": 2
}
