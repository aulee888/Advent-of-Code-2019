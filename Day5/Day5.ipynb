{
 "cells": [
  {
   "cell_type": "code",
   "execution_count": 1,
   "metadata": {},
   "outputs": [],
   "source": [
    "code = [3,225,1,225,6,6,1100,1,238,225,104,0,1002,188,27,224,1001,224,-2241,224,4,224,102,8,223,223,1001,224,6,224,1,223,224,223,101,65,153,224,101,-108,224,224,4,224,1002,223,8,223,1001,224,1,224,1,224,223,223,1,158,191,224,101,-113,224,224,4,224,102,8,223,223,1001,224,7,224,1,223,224,223,1001,195,14,224,1001,224,-81,224,4,224,1002,223,8,223,101,3,224,224,1,224,223,223,1102,47,76,225,1102,35,69,224,101,-2415,224,224,4,224,102,8,223,223,101,2,224,224,1,224,223,223,1101,32,38,224,101,-70,224,224,4,224,102,8,223,223,101,3,224,224,1,224,223,223,1102,66,13,225,1102,43,84,225,1101,12,62,225,1102,30,35,225,2,149,101,224,101,-3102,224,224,4,224,102,8,223,223,101,4,224,224,1,223,224,223,1101,76,83,225,1102,51,51,225,1102,67,75,225,102,42,162,224,101,-1470,224,224,4,224,102,8,223,223,101,1,224,224,1,223,224,223,4,223,99,0,0,0,677,0,0,0,0,0,0,0,0,0,0,0,1105,0,99999,1105,227,247,1105,1,99999,1005,227,99999,1005,0,256,1105,1,99999,1106,227,99999,1106,0,265,1105,1,99999,1006,0,99999,1006,227,274,1105,1,99999,1105,1,280,1105,1,99999,1,225,225,225,1101,294,0,0,105,1,0,1105,1,99999,1106,0,300,1105,1,99999,1,225,225,225,1101,314,0,0,106,0,0,1105,1,99999,1108,226,677,224,1002,223,2,223,1005,224,329,101,1,223,223,108,226,226,224,1002,223,2,223,1005,224,344,1001,223,1,223,1107,677,226,224,1002,223,2,223,1006,224,359,101,1,223,223,1008,226,226,224,1002,223,2,223,1005,224,374,101,1,223,223,8,226,677,224,102,2,223,223,1006,224,389,101,1,223,223,7,226,677,224,1002,223,2,223,1005,224,404,1001,223,1,223,7,226,226,224,1002,223,2,223,1005,224,419,101,1,223,223,107,226,677,224,1002,223,2,223,1005,224,434,101,1,223,223,107,226,226,224,1002,223,2,223,1005,224,449,1001,223,1,223,1107,226,677,224,102,2,223,223,1006,224,464,1001,223,1,223,1007,677,226,224,1002,223,2,223,1006,224,479,1001,223,1,223,1107,677,677,224,1002,223,2,223,1005,224,494,101,1,223,223,1108,677,226,224,102,2,223,223,1006,224,509,101,1,223,223,7,677,226,224,1002,223,2,223,1005,224,524,1001,223,1,223,1008,677,226,224,102,2,223,223,1005,224,539,1001,223,1,223,1108,226,226,224,102,2,223,223,1005,224,554,101,1,223,223,107,677,677,224,102,2,223,223,1006,224,569,1001,223,1,223,1007,226,226,224,102,2,223,223,1006,224,584,101,1,223,223,8,677,677,224,102,2,223,223,1005,224,599,1001,223,1,223,108,677,677,224,1002,223,2,223,1005,224,614,101,1,223,223,108,226,677,224,102,2,223,223,1005,224,629,101,1,223,223,8,677,226,224,102,2,223,223,1006,224,644,1001,223,1,223,1007,677,677,224,1002,223,2,223,1006,224,659,1001,223,1,223,1008,677,677,224,1002,223,2,223,1005,224,674,101,1,223,223,4,223,99,226]"
   ]
  },
  {
   "cell_type": "code",
   "execution_count": 2,
   "metadata": {},
   "outputs": [],
   "source": [
    "def parameterize(opcode, code, i):\n",
    "    instruction = opcode[:-2]\n",
    "\n",
    "    # If necessary, add 0's to omitted 0's in opcode\n",
    "    # i.e 102 -> 00102\n",
    "    if len(instruction) < 3:\n",
    "        for j in range(3 - len(instruction)):\n",
    "            instruction = '0' + instruction\n",
    "\n",
    "    #print(instruction)\n",
    "\n",
    "    # Reading the parameter modes from right to left\n",
    "    # Determines if parameter 1 is postion/immediate mode\n",
    "    if instruction[-1] == '0':\n",
    "        value1 = code[code[i+1]]\n",
    "        #print('P1: Position -> {}'.format(value1))\n",
    "    elif instruction[-1] == '1':\n",
    "        value1 = code[i+1]\n",
    "        #print('P1: Immediate -> {}'.format(value1))\n",
    "\n",
    "    # Determnines mode of parameter 2\n",
    "    if instruction[-2] == '0':\n",
    "        if opcode[-1] == '4':  # Bypass a non-existent second parameter for opcode 4.\n",
    "            value2 = 0\n",
    "        else:\n",
    "            value2 = code[code[i+2]]\n",
    "            #print('P2: Position -> {}'.format(value2))\n",
    "    elif instruction[-2] == '1':\n",
    "        if opcode[-1] == '4':  # Bypass a non-existent second parameter for opcode 4.\n",
    "            value2 = 0\n",
    "        else:\n",
    "            value2 = code[i+2]\n",
    "            #print('P2: Immediate -> {}'.format(value2))\n",
    "\n",
    "    # Parameter 3 should always be 0... will never write in immediate\n",
    "\n",
    "    return value1, value2"
   ]
  },
  {
   "cell_type": "code",
   "execution_count": 3,
   "metadata": {},
   "outputs": [],
   "source": [
    "def intcode(code, input):\n",
    "    i = 0\n",
    "\n",
    "    while True:\n",
    "        operation = str(code[i])\n",
    "\n",
    "        if operation[-2:] in ['01', '1']:  # Include both 01 and 1 to encompass both 1001 and 1 as opcodes\n",
    "            #print('{} | {}, {}, {}, {}'.format(i, code[i], code[i+1], code[i+2], code[i+3]))\n",
    "            temp = code[code[i+3]]\n",
    "            m, n = parameterize(operation, code, i)\n",
    "            added_value = m + n\n",
    "            code[code[i+3]] = added_value\n",
    "            #print('Target Index: {}, {} -> {}'.format(code[i+3], temp, code[code[i+3]]))\n",
    "            i += 4\n",
    "\n",
    "        elif operation[-2:] in ['02', '2']:  # Same as above\n",
    "            #print('{} | {}, {}, {}, {}'.format(i, code[i], code[i+1], code[i+2], code[i+3]))\n",
    "            temp = code[code[i+3]]\n",
    "            m, n = parameterize(operation, code, i)\n",
    "            mult_value = m * n\n",
    "            code[code[i+3]] = mult_value\n",
    "            #print('Target Index: {}, {} -> {}'.format(code[i+3], temp, code[code[i+3]]))\n",
    "            i += 4\n",
    "\n",
    "        elif operation == '3':\n",
    "            #print('{} | {}, {}'.format(i, code[i], code[i+1]))\n",
    "            temp = code[code[i+1]]\n",
    "            code[code[i+1]] = input\n",
    "            #print('Target Index: {}, {} -> {}'.format(code[i+1], temp, code[code[i+1]]))\n",
    "            i += 2\n",
    "\n",
    "        elif operation[-2:] in ['04', '4']:\n",
    "            #print('{} | {}, {}'.format(i, code[i], code[i+1]))\n",
    "            m = parameterize(operation, code, i)[0]\n",
    "            dg = m\n",
    "            print('Output: {}'.format(m))\n",
    "            i += 2 \n",
    "        \n",
    "        # 5 & 6 increase the instruction pointer (i) by 3 because only has three values in instruction i.e. (5, 1 ,2)\n",
    "        elif operation[-2:] in ['05', '5']:\n",
    "            #print('{} | {}, {}, {}'.format(i, code[i], code[i+1], code[i+2]))\n",
    "            m, n = parameterize(operation, code, i)\n",
    "            if m != 0:\n",
    "                i = n\n",
    "                #print('i : {}'.format(n))\n",
    "            else:\n",
    "                i += 3\n",
    "            \n",
    "        elif operation[-2:] in ['06', '6']:\n",
    "            #print('{} | {}, {}, {}'.format(i, code[i], code[i+1], code[i+2]))\n",
    "            m, n = parameterize(operation, code, i)\n",
    "            if m == 0:\n",
    "                i = n\n",
    "                #print('i : {}'.format(n))\n",
    "            else:\n",
    "                i += 3\n",
    "        \n",
    "        elif operation[-2:] in ['07', '7']:\n",
    "            #print('{} | {}, {}, {}, {}'.format(i, code[i], code[i+1], code[i+2], code[i+3]))\n",
    "            temp = code[code[i+3]]\n",
    "            m, n = parameterize(operation, code, i)\n",
    "            if m < n:\n",
    "                code[code[i+3]] = 1\n",
    "            else:\n",
    "                code[code[i+3]] = 0\n",
    "                \n",
    "            #print('Target Index: {}, {} -> {}'.format(code[i+3], temp, code[code[i+3]]))    \n",
    "            i += 4\n",
    "            \n",
    "        elif operation[-2:] in ['08', '8']:\n",
    "            #print('{} | {}, {}, {}, {}'.format(i, code[i], code[i+1], code[i+2], code[i+3]))\n",
    "            temp = code[code[i+3]]\n",
    "            m, n = parameterize(operation, code, i)\n",
    "            if m == n:\n",
    "                code[code[i+3]] = 1\n",
    "            else:\n",
    "                code[code[i+3]] = 0\n",
    "                \n",
    "            #print('Target Index: {}, {} -> {}'.format(code[i+3], temp, code[code[i+3]]))\n",
    "            i += 4\n",
    "        \n",
    "        elif operation == '99':\n",
    "            break\n",
    "\n",
    "        #print('')"
   ]
  },
  {
   "cell_type": "code",
   "execution_count": 4,
   "metadata": {},
   "outputs": [
    {
     "name": "stdout",
     "output_type": "stream",
     "text": [
      "Output: 0\n",
      "Output: 0\n",
      "Output: 0\n",
      "Output: 0\n",
      "Output: 0\n",
      "Output: 0\n",
      "Output: 0\n",
      "Output: 0\n",
      "Output: 0\n",
      "Output: 13087969\n"
     ]
    }
   ],
   "source": [
    "# Answer to Part 1\n",
    "code1 = code[:]\n",
    "intcode(code1, 1)"
   ]
  },
  {
   "cell_type": "code",
   "execution_count": 5,
   "metadata": {},
   "outputs": [
    {
     "name": "stdout",
     "output_type": "stream",
     "text": [
      "Output: 14110739\n"
     ]
    }
   ],
   "source": [
    "# Answer to Part 2\n",
    "code1 = code[:]\n",
    "intcode(code1, 5)"
   ]
  }
 ],
 "metadata": {
  "kernelspec": {
   "display_name": "Python 3",
   "language": "python",
   "name": "python3"
  },
  "language_info": {
   "codemirror_mode": {
    "name": "ipython",
    "version": 3
   },
   "file_extension": ".py",
   "mimetype": "text/x-python",
   "name": "python",
   "nbconvert_exporter": "python",
   "pygments_lexer": "ipython3",
   "version": "3.7.3"
  }
 },
 "nbformat": 4,
 "nbformat_minor": 2
}
