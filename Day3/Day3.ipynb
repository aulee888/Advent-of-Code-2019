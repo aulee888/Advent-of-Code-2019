{
 "cells": [
  {
   "cell_type": "code",
   "execution_count": 16,
   "metadata": {},
   "outputs": [],
   "source": [
    "input = open('Day3Data.txt','r')\n",
    "input_str = input.read().split('\\n')"
   ]
  },
  {
   "cell_type": "code",
   "execution_count": 18,
   "metadata": {},
   "outputs": [],
   "source": [
    "w1 = input_str[0].split(',')\n",
    "w2 = input_str[1].split(',')"
   ]
  },
  {
   "cell_type": "code",
   "execution_count": 35,
   "metadata": {},
   "outputs": [],
   "source": [
    "def minDistance(w1: list, w2: list) -> int:\n",
    "    positions = {}\n",
    "    steps1 ={}\n",
    "    x, y, steps = 0, 0, 0\n",
    "    \n",
    "    # Iterates through every step the first wire takes.\n",
    "    # Counts the numbers of steps taken to reach a point.\n",
    "    # Stores both the numbers of steps taken and which points have been passed in seperate dicts.\n",
    "    for instruction in w1:\n",
    "        dir = instruction[0]\n",
    "        units = int(instruction[1:])\n",
    "        \n",
    "        for i in range(units):\n",
    "            if dir == 'L':\n",
    "                x -= 1\n",
    "            elif dir == 'R':\n",
    "                x += 1\n",
    "            elif dir == 'U':\n",
    "                y += 1\n",
    "            elif dir == 'D':\n",
    "                y -= 1\n",
    "            \n",
    "            steps += 1\n",
    "            positions[(x, y)] = '*'\n",
    "            \n",
    "            if (x, y) not in steps1:  # Only adds the first time a point is reached.\n",
    "                steps1[(x, y)] = steps\n",
    "    \n",
    "    # Iterates through every step the second wire takes.\n",
    "    # Counts the number of steps taken to reach a point.\n",
    "    # Stores only number of steps taken and points passed if they're in wire1's dict.\n",
    "    # steps2 is a list instead of a dict because it's easier to perform list.min() \n",
    "        # instead of a min of a list of sums compiled from dicts.\n",
    "\n",
    "    intersections = []\n",
    "    steps2 = []      \n",
    "    x2, y2, steps = 0, 0, 0\n",
    "    for instruction in w2:\n",
    "        dir = instruction[0]\n",
    "        units = int(instruction[1:])\n",
    "        \n",
    "        for i in range(units):\n",
    "            if dir == 'L':\n",
    "                x2 -= 1\n",
    "            elif dir == 'R':\n",
    "                x2 += 1\n",
    "            elif dir == 'U':\n",
    "                y2 += 1\n",
    "            elif dir == 'D':\n",
    "                y2 -= 1\n",
    "            \n",
    "            steps += 1\n",
    "            \n",
    "            if (x2, y2) in positions: # Checks to see if each point wire2 passes is in dict.\n",
    "                intersections.append((x2, y2))\n",
    "                \n",
    "                if (x2, y2) not in steps2:  # Sums the number of steps at intersection the first time around.\n",
    "                    steps2.append(steps1[(x2, y2)] + steps)\n",
    "               \n",
    "    min_distance = min([abs(point[0]) + abs(point[1]) for point in intersections])\n",
    "    min_steps = min(steps2)\n",
    "    \n",
    "    return min_distance, min_steps"
   ]
  },
  {
   "cell_type": "code",
   "execution_count": 38,
   "metadata": {},
   "outputs": [
    {
     "name": "stdout",
     "output_type": "stream",
     "text": [
      "4981\n"
     ]
    }
   ],
   "source": [
    "# Answer to Part 1\n",
    "print(minDistance(w1, w2)[0])"
   ]
  },
  {
   "cell_type": "code",
   "execution_count": 40,
   "metadata": {},
   "outputs": [
    {
     "name": "stdout",
     "output_type": "stream",
     "text": [
      "164012\n"
     ]
    }
   ],
   "source": [
    "# Answer to Part 2\n",
    "print(minDistance(w1, w2)[1])"
   ]
  }
 ],
 "metadata": {
  "kernelspec": {
   "display_name": "Python 3",
   "language": "python",
   "name": "python3"
  },
  "language_info": {
   "codemirror_mode": {
    "name": "ipython",
    "version": 3
   },
   "file_extension": ".py",
   "mimetype": "text/x-python",
   "name": "python",
   "nbconvert_exporter": "python",
   "pygments_lexer": "ipython3",
   "version": "3.7.3"
  }
 },
 "nbformat": 4,
 "nbformat_minor": 2
}
