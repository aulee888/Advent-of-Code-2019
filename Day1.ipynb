{
 "cells": [
  {
   "cell_type": "code",
   "execution_count": 1,
   "metadata": {},
   "outputs": [],
   "source": [
    "import pandas as pd"
   ]
  },
  {
   "cell_type": "code",
   "execution_count": 2,
   "metadata": {},
   "outputs": [],
   "source": [
    "# Math for Module and Fuel\n",
    "def fuel_required(mass):\n",
    "    fuel_mass = mass//3 - 2\n",
    "    return fuel_mass"
   ]
  },
  {
   "cell_type": "code",
   "execution_count": 3,
   "metadata": {},
   "outputs": [],
   "source": [
    "# Recursion\n",
    "def fuel_for_fuel(mass):\n",
    "    required = fuel_required(mass)\n",
    "    if required <= 0:\n",
    "        return 0\n",
    "    else:\n",
    "        return required + fuel_for_fuel(required)"
   ]
  },
  {
   "cell_type": "code",
   "execution_count": 20,
   "metadata": {},
   "outputs": [],
   "source": [
    "# Combo of 2\n",
    "def total_fuel_required(mass):\n",
    "    fuel_for_module = fuel_required(mass)\n",
    "    fuel2 = fuel_for_fuel(fuel_for_module)  # Fuel2 is the amount of fuel needed to carry the fuel\n",
    "    return fuel_for_module + fuel2"
   ]
  },
  {
   "cell_type": "code",
   "execution_count": 5,
   "metadata": {},
   "outputs": [],
   "source": [
    "data = pd.read_excel('Day1Data.xlsx')\n",
    "data_array = data.values"
   ]
  },
  {
   "cell_type": "code",
   "execution_count": 6,
   "metadata": {},
   "outputs": [],
   "source": [
    "fuel_list = []\n",
    "for line in data_array:\n",
    "    fuel_list.append(fuel_required(line))"
   ]
  },
  {
   "cell_type": "code",
   "execution_count": 7,
   "metadata": {},
   "outputs": [
    {
     "name": "stdout",
     "output_type": "stream",
     "text": [
      "[3386686]\n"
     ]
    }
   ],
   "source": [
    "# Answer to Part 1\n",
    "print(sum(fuel_list))"
   ]
  },
  {
   "cell_type": "code",
   "execution_count": 23,
   "metadata": {},
   "outputs": [],
   "source": [
    "fuel_list2 = []\n",
    "for module in data_array:\n",
    "    fuel_list2.append(total_fuel_required(module))"
   ]
  },
  {
   "cell_type": "code",
   "execution_count": 24,
   "metadata": {},
   "outputs": [
    {
     "name": "stdout",
     "output_type": "stream",
     "text": [
      "[5077155]\n"
     ]
    }
   ],
   "source": [
    "#Answer to Part 2\n",
    "print(sum(fuel_list2))"
   ]
  }
 ],
 "metadata": {
  "kernelspec": {
   "display_name": "Python 3",
   "language": "python",
   "name": "python3"
  },
  "language_info": {
   "codemirror_mode": {
    "name": "ipython",
    "version": 3
   },
   "file_extension": ".py",
   "mimetype": "text/x-python",
   "name": "python",
   "nbconvert_exporter": "python",
   "pygments_lexer": "ipython3",
   "version": "3.7.4"
  }
 },
 "nbformat": 4,
 "nbformat_minor": 2
}
