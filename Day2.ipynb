{
 "cells": [
  {
   "cell_type": "code",
   "execution_count": 1,
   "metadata": {},
   "outputs": [],
   "source": [
    "def intcode(code):\n",
    "    for i in range(len(code)):\n",
    "        if i % 4 == 0:  # Prevents values of 1, 2 or 99 in optcode from acting as an operation as seen in next cell.\n",
    "            if code[i] == 99:\n",
    "                pass\n",
    "            elif code[i] == 1:\n",
    "                added_value = code[code[i+1]] + code[code[i+2]]\n",
    "                code[code[i+3]] = added_value\n",
    "\n",
    "            elif code[i] == 2:\n",
    "                mult_value = code[code[i+1]] * code[code[i+2]]\n",
    "                code[code[i+3]] = mult_value\n",
    "    \n",
    "    return code"
   ]
  },
  {
   "cell_type": "markdown",
   "metadata": {},
   "source": [
    "###### Demonstrates the use of line 3 in Cell 1.\n",
    "print(intcode([1,1,1,4,99,5,6,0,99]))"
   ]
  },
  {
   "cell_type": "code",
   "execution_count": 2,
   "metadata": {},
   "outputs": [],
   "source": [
    "original_code = [1,0,0,3,1,1,2,3,1,3,4,3,1,5,0,3,2,13,1,19,1,5,19,23,2,10,23,27,1,27,5,31,2,9,31,35,1,35,5,39,2,6,39,43,1,43,5,47,2,47,10,51,2,51,6,55,1,5,55,59,2,10,59,63,1,63,6,67,2,67,6,71,1,71,5,75,1,13,75,79,1,6,79,83,2,83,13,87,1,87,6,91,1,10,91,95,1,95,9,99,2,99,13,103,1,103,6,107,2,107,6,111,1,111,2,115,1,115,13,0,99,2,0,14,0]"
   ]
  },
  {
   "cell_type": "code",
   "execution_count": 3,
   "metadata": {},
   "outputs": [],
   "source": [
    "# Part 1 asks to change Indices 1 & 2 to the values below before running the intcode.\n",
    "# The [:] operator copies a list and creates a new list and avoids problems with mutability.\n",
    "code1 = original_code[:]\n",
    "code1[1] = 12\n",
    "code1[2] = 2"
   ]
  },
  {
   "cell_type": "code",
   "execution_count": 4,
   "metadata": {},
   "outputs": [
    {
     "name": "stdout",
     "output_type": "stream",
     "text": [
      "4714701\n"
     ]
    }
   ],
   "source": [
    "# Answer to Part 1\n",
    "print(intcode(code1)[0])"
   ]
  },
  {
   "cell_type": "code",
   "execution_count": 5,
   "metadata": {},
   "outputs": [],
   "source": [
    "# Get an output of 19690720 from the intcode by changing the values of index 1 and index 2 of the original code.\n",
    "for j in range(99):\n",
    "    \n",
    "    # temp_code resets memory and keeps reusing the original code instead of using changed code from function.\n",
    "    for k in range(99):\n",
    "        temp_code = original_code[:]  \n",
    "        temp_code[1] = j\n",
    "        temp_code[2] = k\n",
    "        output = intcode(temp_code)[0]\n",
    "        \n",
    "        if output == 19690720:\n",
    "            noun = j\n",
    "            verb = k\n",
    "            break\n",
    "            \n",
    "    if output == 19690720:\n",
    "        break"
   ]
  },
  {
   "cell_type": "code",
   "execution_count": 6,
   "metadata": {},
   "outputs": [
    {
     "name": "stdout",
     "output_type": "stream",
     "text": [
      "Output: 19690720, Noun: 51, Verb: 21\n",
      "100 * noun + verb = 5121\n"
     ]
    }
   ],
   "source": [
    "# Answer to Part 2  \n",
    "print('Output: {}, Noun: {}, Verb: {}'.format(output, noun, verb))\n",
    "print('100 * noun + verb = {}'.format(100*noun + verb))"
   ]
  }
 ],
 "metadata": {
  "kernelspec": {
   "display_name": "Python 3",
   "language": "python",
   "name": "python3"
  },
  "language_info": {
   "codemirror_mode": {
    "name": "ipython",
    "version": 3
   },
   "file_extension": ".py",
   "mimetype": "text/x-python",
   "name": "python",
   "nbconvert_exporter": "python",
   "pygments_lexer": "ipython3",
   "version": "3.7.3"
  }
 },
 "nbformat": 4,
 "nbformat_minor": 2
}
